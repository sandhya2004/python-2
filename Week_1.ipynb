{
  "cells": [
    {
      "cell_type": "markdown",
      "metadata": {
        "id": "view-in-github",
        "colab_type": "text"
      },
      "source": [
        "<a href=\"https://colab.research.google.com/github/sandhya2004/python-2/blob/main/Week_1.ipynb\" target=\"_parent\"><img src=\"https://colab.research.google.com/assets/colab-badge.svg\" alt=\"Open In Colab\"/></a>"
      ]
    },
    {
      "cell_type": "code",
      "execution_count": null,
      "metadata": {
        "colab": {
          "base_uri": "https://localhost:8080/"
        },
        "id": "Hru_ezGMR4Qk",
        "outputId": "0c629c83-d6f3-4fb6-d39f-27ace70403b1"
      },
      "outputs": [
        {
          "name": "stdout",
          "output_type": "stream",
          "text": [
            "Hello pytho \n"
          ]
        }
      ],
      "source": [
        "#sectio A: Fundamental of python \n",
        "#1. Write a python program to print the \"Hello python \"\n",
        "print(\"Hello pytho \")\n"
      ]
    },
    {
      "cell_type": "code",
      "execution_count": null,
      "metadata": {
        "colab": {
          "base_uri": "https://localhost:8080/"
        },
        "id": "HJH-gKlLSYSE",
        "outputId": "855fb6f1-3b3c-407a-ff8a-cb7fb51be233"
      },
      "outputs": [
        {
          "name": "stdout",
          "output_type": "stream",
          "text": [
            "15\n",
            "50\n",
            "2.0\n"
          ]
        }
      ],
      "source": [
        "#2. Write a Python program to do arithmetical operations addition and division ?\n",
        "a = 10\n",
        "b = 5\n",
        "div = a/b\n",
        "mul =a*b\n",
        "add =a+b\n",
        "print(add)\n",
        "print(mul)\n",
        "print(div)"
      ]
    },
    {
      "cell_type": "code",
      "execution_count": null,
      "metadata": {
        "colab": {
          "base_uri": "https://localhost:8080/"
        },
        "id": "zFtXTENtTJwj",
        "outputId": "0548084d-35ae-44ce-f68d-3e7772a5d885"
      },
      "outputs": [
        {
          "name": "stdout",
          "output_type": "stream",
          "text": [
            "4.0\n"
          ]
        }
      ],
      "source": [
        "#3. Write a Python program to find the area of a triangle?\n",
        "base = 4 \n",
        "height = 2\n",
        "area = 1/2* base * height \n",
        "print (area)"
      ]
    },
    {
      "cell_type": "code",
      "execution_count": null,
      "metadata": {
        "colab": {
          "base_uri": "https://localhost:8080/"
        },
        "id": "bDJngtXyUCR7",
        "outputId": "e23fc79b-4879-4b39-d865-dc0917a03a32"
      },
      "outputs": [
        {
          "name": "stdout",
          "output_type": "stream",
          "text": [
            "the value of the x: 10 and the value of the y :  5\n"
          ]
        }
      ],
      "source": [
        "#4. Write a Python program to swap two variables?\n",
        "x = 5\n",
        "y = 10\n",
        "x , y = y , x\n",
        "print (\"the value of the x:\", x,\"and the value of the y : \",y)"
      ]
    },
    {
      "cell_type": "code",
      "execution_count": null,
      "metadata": {
        "colab": {
          "base_uri": "https://localhost:8080/"
        },
        "id": "ewlfg6qoVClC",
        "outputId": "1e7b1769-68e0-464f-d694-802744e7ddb0"
      },
      "outputs": [
        {
          "name": "stdout",
          "output_type": "stream",
          "text": [
            "8\n"
          ]
        }
      ],
      "source": [
        "#5. Write a Python program to generate a random number?\n",
        "import random \n",
        "print(random.randint(0,9))"
      ]
    },
    {
      "cell_type": "code",
      "execution_count": null,
      "metadata": {
        "colab": {
          "base_uri": "https://localhost:8080/"
        },
        "id": "QyPzXr4NVw1K",
        "outputId": "1699e739-6cfd-4152-f14f-6d9873378fee"
      },
      "outputs": [
        {
          "name": "stdout",
          "output_type": "stream",
          "text": [
            "2.1747985\n"
          ]
        }
      ],
      "source": [
        "#Section B:\n",
        "#1. Write a Python program to convert kilometers to miles?\n",
        "kilometer =   3.5 \n",
        "conv_fac = 0.621371\n",
        "miles = kilometer * conv_fac\n",
        "print(miles)\n"
      ]
    },
    {
      "cell_type": "code",
      "execution_count": null,
      "metadata": {
        "colab": {
          "base_uri": "https://localhost:8080/"
        },
        "id": "x1i0Q1iXW-q5",
        "outputId": "1bebe75f-4090-49fd-f585-599e15eac317"
      },
      "outputs": [
        {
          "name": "stdout",
          "output_type": "stream",
          "text": [
            "95.0\n"
          ]
        }
      ],
      "source": [
        "#2. Write a Python program to convert Celsius to Fahrenheit?\n",
        "celsius = 35 \n",
        "Fahrenheit = (celsius * 1.8)+32\n",
        "print(Fahrenheit)"
      ]
    },
    {
      "cell_type": "code",
      "execution_count": null,
      "metadata": {
        "colab": {
          "base_uri": "https://localhost:8080/"
        },
        "id": "DXPlfIyYX0QZ",
        "outputId": "5d64de63-3553-414c-f894-f27e6dd5399f"
      },
      "outputs": [
        {
          "name": "stdout",
          "output_type": "stream",
          "text": [
            "   December 2004\n",
            "Mo Tu We Th Fr Sa Su\n",
            "       1  2  3  4  5\n",
            " 6  7  8  9 10 11 12\n",
            "13 14 15 16 17 18 19\n",
            "20 21 22 23 24 25 26\n",
            "27 28 29 30 31\n",
            "\n"
          ]
        }
      ],
      "source": [
        "#3. Write a Python program to display calendar?\n",
        "import calendar \n",
        "yy =2004 \n",
        "mm =12\n",
        "print (calendar.month(yy,mm))"
      ]
    },
    {
      "cell_type": "code",
      "execution_count": null,
      "metadata": {
        "colab": {
          "base_uri": "https://localhost:8080/"
        },
        "id": "35ULAeadYXcg",
        "outputId": "b93c692a-9966-423a-dcde-8f75ece990fb"
      },
      "outputs": [
        {
          "name": "stdout",
          "output_type": "stream",
          "text": [
            "enter the value of a:1\n",
            "enter the value of b:2\n",
            "enter the value of c:3\n",
            "The solution are(-1-1.4142135623730951j) and (-1+1.4142135623730951j)\n"
          ]
        }
      ],
      "source": [
        "#4. Write a Python program to solve quadratic equation ?\n",
        "import cmath \n",
        "\n",
        "a = int(input(\"enter the value of a:\"))\n",
        "b = int(input(\"enter the value of b:\"))\n",
        "c=  int(input(\"enter the value of c:\"))\n",
        "\n",
        "#To calculate the discriminant\n",
        "d = (b**2)-(4*a*c)\n",
        "#To find the two solution \n",
        "sol1 = (-b-cmath.sqrt(d))/(2*a)\n",
        "sol2 = (-b+cmath.sqrt(d))/(2*a)\n",
        "print('The solution are{0} and {1}'.format(sol1,sol2))\n",
        "\n"
      ]
    },
    {
      "cell_type": "code",
      "execution_count": null,
      "metadata": {
        "id": "DDFuFAnuaehw"
      },
      "outputs": [],
      "source": [
        ""
      ]
    },
    {
      "cell_type": "code",
      "execution_count": null,
      "metadata": {
        "colab": {
          "base_uri": "https://localhost:8080/"
        },
        "id": "gTLCTmoQPj5m",
        "outputId": "1f38268e-e50e-449c-bf6c-0ad1754dc934"
      },
      "outputs": [
        {
          "name": "stdout",
          "output_type": "stream",
          "text": [
            "print the value of x : 4 and y: 5\n",
            "print the value of X after swapping : 5 and y: 4\n"
          ]
        }
      ],
      "source": [
        "#5. Write a Python program to swap two variables without temp variable?\n",
        "x = 4\n",
        "y = 5 \n",
        "print (\"print the value of x :\" , x ,\"and y:\",y)\n",
        "x , y = y, x\n",
        "print(\"print the value of X after swapping :\", x , \"and y:\" , y)\n"
      ]
    },
    {
      "cell_type": "code",
      "execution_count": null,
      "metadata": {
        "colab": {
          "base_uri": "https://localhost:8080/"
        },
        "id": "XiyL6t3G64OB",
        "outputId": "cf2e1780-28c7-4da1-9ca1-31f60fd69f8a"
      },
      "outputs": [
        {
          "output_type": "stream",
          "name": "stdout",
          "text": [
            "Entetr the number45\n",
            "Th enummber is positive\n"
          ]
        }
      ],
      "source": [
        "#Section C:\n",
        "#1. Write a Python Program to Check if a Number is Positive, Negative or Zero?\n",
        "Num = int(input(\"Entetr the number\"))\n",
        "if Num == 0:\n",
        "    print(\"The Number is zero\")\n",
        "elif Num>0:\n",
        "    print(\"Th enummber is positive\") \n",
        "else:\n",
        "    print(\"th enumber is negative\")\n",
        "\n"
      ]
    },
    {
      "cell_type": "code",
      "execution_count": null,
      "metadata": {
        "id": "wVZcXt48AIUK",
        "colab": {
          "base_uri": "https://localhost:8080/"
        },
        "outputId": "0c7836a3-ee49-4c8c-a6c5-007f9813e8ee"
      },
      "outputs": [
        {
          "output_type": "stream",
          "name": "stdout",
          "text": [
            "Entetr the number4\n",
            "The Number is even\n"
          ]
        }
      ],
      "source": [
        "#2. Write a Python Program to Check if a Number is Odd or Even?\n",
        "Num = int(input(\"Entetr the number\"))\n",
        "if Num%2 == 0:\n",
        "    print(\"The Number is even\")\n",
        "else:\n",
        "    print(\"Th nummber is odd\") \n"
      ]
    },
    {
      "cell_type": "code",
      "source": [
        "#.3 Write a Python Program to Check Leap Year?\n",
        "year = int (input(\"Enter the year : \"))\n",
        "if(year %400 == 0 ):\n",
        "    print(year , \"is a leap year.\")\n",
        "else:\n",
        "    print(year , \"is not a leap year\")\n",
        "\n",
        "\n"
      ],
      "metadata": {
        "colab": {
          "base_uri": "https://localhost:8080/"
        },
        "id": "uxIlja36p-vQ",
        "outputId": "5d54629f-6f72-4aae-b401-0364656eb22d"
      },
      "execution_count": null,
      "outputs": [
        {
          "output_type": "stream",
          "name": "stdout",
          "text": [
            "Enter the year : 2000\n",
            "2000 is a leap year.\n"
          ]
        }
      ]
    }
  ],
  "metadata": {
    "colab": {
      "collapsed_sections": [],
      "name": "Week 1",
      "provenance": [],
      "authorship_tag": "ABX9TyM8/XYJJJhzBxNOZSDf81Oc",
      "include_colab_link": true
    },
    "kernelspec": {
      "display_name": "Python 3",
      "name": "python3"
    },
    "language_info": {
      "name": "python"
    }
  },
  "nbformat": 4,
  "nbformat_minor": 0
}